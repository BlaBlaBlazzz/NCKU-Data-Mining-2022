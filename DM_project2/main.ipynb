{
 "cells": [
  {
   "cell_type": "code",
   "execution_count": 1,
   "metadata": {},
   "outputs": [],
   "source": [
    "from sklearn.tree import DecisionTreeClassifier\n",
    "from sklearn.neighbors import KNeighborsClassifier\n",
    "from sklearn import tree\n",
    "import graphviz\n",
    "import pandas as pd\n",
    "import matplotlib.pyplot as plt"
   ]
  },
  {
   "cell_type": "code",
   "execution_count": 2,
   "metadata": {},
   "outputs": [
    {
     "name": "stdout",
     "output_type": "stream",
     "text": [
      "C:\\Users\\jason\\Desktop\\大一課程\\資料探勘\\H24116049_DM_Project2\\input\n"
     ]
    }
   ],
   "source": [
    "cd input/"
   ]
  },
  {
   "cell_type": "markdown",
   "metadata": {},
   "source": [
    "# Decision Tree Classifier\n",
    "\n",
    "## Data without Noise"
   ]
  },
  {
   "cell_type": "code",
   "execution_count": 3,
   "metadata": {},
   "outputs": [],
   "source": [
    "data = pd.read_csv(\"data.csv\")\n",
    "feature_name = list(data.columns)[:18]\n",
    "\n",
    "train_data = data[:800]\n",
    "test_data = data[800:]\n",
    "\n",
    "train_x = train_data.drop(\"output\", axis=1)\n",
    "train_y = train_data.output\n",
    "\n",
    "test_x = test_data.drop(\"output\", axis=1)\n",
    "test_y = test_data.output"
   ]
  },
  {
   "cell_type": "code",
   "execution_count": 4,
   "metadata": {},
   "outputs": [],
   "source": [
    "#calculate the accuracy of testing data\n",
    "def cal_test_acc(predicted, test_y):\n",
    "    count = 0\n",
    "    for i in range(len(predicted)):\n",
    "        if predicted[i] == list(test_y)[i]:\n",
    "            count += 1\n",
    "    test_acc = count / len(predicted)\n",
    "\n",
    "    return test_acc"
   ]
  },
  {
   "cell_type": "code",
   "execution_count": 5,
   "metadata": {},
   "outputs": [
    {
     "name": "stdout",
     "output_type": "stream",
     "text": [
      "max_depth = 1\n",
      "Acc: 0.765,     Test_Acc: 0.780\n",
      "================================\n",
      "max_depth = 2\n",
      "Acc: 0.875,     Test_Acc: 0.855\n",
      "================================\n",
      "max_depth = 3\n",
      "Acc: 0.875,     Test_Acc: 0.855\n",
      "================================\n",
      "max_depth = 4\n",
      "Acc: 0.935,     Test_Acc: 0.920\n",
      "================================\n",
      "max_depth = 5\n",
      "Acc: 0.940,     Test_Acc: 0.955\n",
      "================================\n",
      "max_depth = 6\n",
      "Acc: 1.000,     Test_Acc: 1.000\n",
      "================================\n",
      "max_depth = 7\n",
      "Acc: 1.000,     Test_Acc: 1.000\n",
      "================================\n",
      "max_depth = 8\n",
      "Acc: 1.000,     Test_Acc: 1.000\n",
      "================================\n",
      "max_depth = 9\n",
      "Acc: 1.000,     Test_Acc: 1.000\n",
      "================================\n"
     ]
    }
   ],
   "source": [
    "#construct models by different max_depth\n",
    "for i in range(1, 10):\n",
    "    Model = DecisionTreeClassifier(criterion='entropy', max_depth=i)\n",
    "    Model.fit(train_x, train_y)\n",
    "\n",
    "    Acc = Model.score(train_x, train_y)\n",
    "    Predicted = Model.predict(test_x)\n",
    "    Test_acc = cal_test_acc(Predicted, test_y)\n",
    "    print(\"max_depth = {}\".format(i))\n",
    "    print(\"Acc: {:.3f},     Test_Acc: {:.3f}\".format(Acc, Test_acc))\n",
    "    print(\"================================\")"
   ]
  },
  {
   "cell_type": "markdown",
   "metadata": {},
   "source": [
    "## Data with Noise"
   ]
  },
  {
   "cell_type": "code",
   "execution_count": 6,
   "metadata": {},
   "outputs": [],
   "source": [
    "n_data = pd.read_csv(\"data_with_noise.csv\")\n",
    "feature = list(n_data.columns[:18])\n",
    "\n",
    "n_train_data = n_data[:1000]\n",
    "n_test_data = n_data[1000:]\n",
    "\n",
    "n_train_X = n_train_data.drop(\"output\", axis=1)\n",
    "n_train_y = n_train_data[\"output\"]\n",
    "\n",
    "n_test_X = n_test_data.drop(\"output\", axis=1)\n",
    "n_test_y = n_test_data[\"output\"]"
   ]
  },
  {
   "cell_type": "code",
   "execution_count": 7,
   "metadata": {},
   "outputs": [
    {
     "name": "stdout",
     "output_type": "stream",
     "text": [
      "max_depth = 1\n",
      "Acc: 0.720,     Test_Acc: 0.780\n",
      "================================\n",
      "max_depth = 2\n",
      "Acc: 0.814,     Test_Acc: 0.855\n",
      "================================\n",
      "max_depth = 3\n",
      "Acc: 0.814,     Test_Acc: 0.855\n",
      "================================\n",
      "max_depth = 4\n",
      "Acc: 0.860,     Test_Acc: 0.920\n",
      "================================\n",
      "max_depth = 5\n",
      "Acc: 0.863,     Test_Acc: 0.915\n",
      "================================\n",
      "max_depth = 6\n",
      "Acc: 0.916,     Test_Acc: 0.985\n",
      "================================\n",
      "max_depth = 7\n",
      "Acc: 0.921,     Test_Acc: 0.980\n",
      "================================\n",
      "max_depth = 8\n",
      "Acc: 0.949,     Test_Acc: 0.925\n",
      "================================\n",
      "max_depth = 9\n",
      "Acc: 0.980,     Test_Acc: 0.905\n",
      "================================\n"
     ]
    }
   ],
   "source": [
    "for i in range(1, 10):\n",
    "    Model = DecisionTreeClassifier(criterion='entropy', max_depth=i)\n",
    "    Model.fit(n_train_X, n_train_y)\n",
    "\n",
    "    Acc = Model.score(n_train_X, n_train_y)\n",
    "    Predicted = Model.predict(n_test_X)\n",
    "    Test_acc = cal_test_acc(Predicted, n_test_y)\n",
    "    print(\"max_depth = {}\".format(i))\n",
    "    print(\"Acc: {:.3f},     Test_Acc: {:.3f}\".format(Acc, Test_acc))\n",
    "    print(\"================================\")"
   ]
  },
  {
   "cell_type": "markdown",
   "metadata": {},
   "source": [
    "# KNN\n",
    "\n",
    "## Data without Noise"
   ]
  },
  {
   "cell_type": "code",
   "execution_count": 8,
   "metadata": {},
   "outputs": [],
   "source": [
    "data = pd.read_csv(\"data.csv\")\n",
    "\n",
    "train_data = data[:800]\n",
    "test_data = data[800:]\n",
    "\n",
    "train_X = train_data.drop(\"output\", axis=1)\n",
    "train_y = train_data[\"output\"]\n",
    "\n",
    "test_X = test_data.drop(\"output\", axis=1)\n",
    "test_y = test_data[\"output\"]"
   ]
  },
  {
   "cell_type": "code",
   "execution_count": 9,
   "metadata": {},
   "outputs": [
    {
     "name": "stdout",
     "output_type": "stream",
     "text": [
      "n_neighbors = 1\n",
      "Acc: 1.000,     Test_Acc: 0.830\n",
      "================================\n",
      "n_neighbors = 2\n",
      "Acc: 0.905,     Test_Acc: 0.820\n",
      "================================\n",
      "n_neighbors = 3\n",
      "Acc: 0.940,     Test_Acc: 0.835\n",
      "================================\n",
      "n_neighbors = 4\n",
      "Acc: 0.896,     Test_Acc: 0.860\n",
      "================================\n",
      "n_neighbors = 5\n",
      "Acc: 0.926,     Test_Acc: 0.900\n",
      "================================\n",
      "n_neighbors = 6\n",
      "Acc: 0.907,     Test_Acc: 0.865\n",
      "================================\n",
      "n_neighbors = 7\n",
      "Acc: 0.927,     Test_Acc: 0.895\n",
      "================================\n",
      "n_neighbors = 8\n",
      "Acc: 0.912,     Test_Acc: 0.870\n",
      "================================\n",
      "n_neighbors = 9\n",
      "Acc: 0.943,     Test_Acc: 0.905\n",
      "================================\n"
     ]
    }
   ],
   "source": [
    "#construct model by different n_neighbors\n",
    "for i in range(1, 10):\n",
    "    model = KNeighborsClassifier(n_neighbors = i)\n",
    "    model.fit(train_X, train_y)\n",
    "    Acc = model.score(train_X, train_y)\n",
    "    \n",
    "    Predicted = model.predict(test_X)\n",
    "    Test_acc = cal_test_acc(Predicted, test_y)\n",
    "    print(\"n_neighbors = {}\".format(i))\n",
    "    print(\"Acc: {:.3f},     Test_Acc: {:.3f}\".format(Acc, Test_acc))\n",
    "    print(\"================================\")"
   ]
  },
  {
   "cell_type": "code",
   "execution_count": 10,
   "metadata": {},
   "outputs": [],
   "source": [
    "model = KNeighborsClassifier(n_neighbors = 5)\n",
    "model.fit(train_X, train_y)\n",
    "Acc = model.score(train_X, train_y)\n",
    "predicted = model.predict(train_X)\n",
    "    \n",
    "Predicted = model.predict(test_X)\n",
    "Test_acc = cal_test_acc(Predicted, test_y)"
   ]
  },
  {
   "cell_type": "code",
   "execution_count": 11,
   "metadata": {},
   "outputs": [
    {
     "name": "stderr",
     "output_type": "stream",
     "text": [
      "C:\\Users\\jason\\anaconda3\\lib\\site-packages\\sklearn\\utils\\deprecation.py:87: FutureWarning: Function plot_confusion_matrix is deprecated; Function `plot_confusion_matrix` is deprecated in 1.0 and will be removed in 1.2. Use one of the class methods: ConfusionMatrixDisplay.from_predictions or ConfusionMatrixDisplay.from_estimator.\n",
      "  warnings.warn(msg, category=FutureWarning)\n",
      "C:\\Users\\jason\\anaconda3\\lib\\site-packages\\sklearn\\utils\\deprecation.py:87: FutureWarning: Function plot_confusion_matrix is deprecated; Function `plot_confusion_matrix` is deprecated in 1.0 and will be removed in 1.2. Use one of the class methods: ConfusionMatrixDisplay.from_predictions or ConfusionMatrixDisplay.from_estimator.\n",
      "  warnings.warn(msg, category=FutureWarning)\n"
     ]
    },
    {
     "data": {
      "text/plain": [
       "Text(0.5, 0, 'Predicted Label of Testing Data')"
      ]
     },
     "execution_count": 11,
     "metadata": {},
     "output_type": "execute_result"
    },
    {
     "data": {
      "image/png": "[encoded data removed]",
      "text/plain": [
       "<Figure size 432x288 with 2 Axes>"
      ]
     },
     "metadata": {
      "needs_background": "light"
     },
     "output_type": "display_data"
    },
    {
     "data": {
      "image/png": "[encoded data removed]",
      "text/plain": [
       "<Figure size 432x288 with 2 Axes>"
      ]
     },
     "metadata": {
      "needs_background": "light"
     },
     "output_type": "display_data"
    }
   ],
   "source": [
    "from sklearn.metrics import confusion_matrix\n",
    "from sklearn.metrics import plot_confusion_matrix\n",
    "\n",
    "plot_confusion_matrix(model, train_X, train_y, cmap=plt.cm.Blues)\n",
    "plt.title(\"Confusion Matrix of Training Data\")\n",
    "plt.xlabel(\"Predicted Label of Training Data\")\n",
    "\n",
    "plot_confusion_matrix(model, test_X, test_y, cmap=plt.cm.Blues)\n",
    "plt.title(\"Confusion Matrix of Testing Data\")\n",
    "plt.xlabel(\"Predicted Label of Testing Data\")"
   ]
  },
  {
   "cell_type": "markdown",
   "metadata": {},
   "source": [
    "## Data with Noise"
   ]
  },
  {
   "cell_type": "code",
   "execution_count": 12,
   "metadata": {},
   "outputs": [],
   "source": [
    "data = pd.read_csv(\"data_with_noise.csv\")\n",
    "\n",
    "n_train_data = n_data[:1000]\n",
    "n_test_data = n_data[1000:]\n",
    "\n",
    "n_train_X = n_train_data.drop(\"output\", axis=1)\n",
    "n_train_y = n_train_data[\"output\"]\n",
    "\n",
    "n_test_X = n_test_data.drop(\"output\", axis=1)\n",
    "n_test_y = n_test_data[\"output\"]"
   ]
  },
  {
   "cell_type": "code",
   "execution_count": 13,
   "metadata": {},
   "outputs": [
    {
     "name": "stdout",
     "output_type": "stream",
     "text": [
      "n_neighbors = 1\n",
      "Acc: 0.999,     Test_Acc: 0.775\n",
      "================================\n",
      "n_neighbors = 2\n",
      "Acc: 0.869,     Test_Acc: 0.775\n",
      "================================\n",
      "n_neighbors = 3\n",
      "Acc: 0.874,     Test_Acc: 0.800\n",
      "================================\n",
      "n_neighbors = 4\n",
      "Acc: 0.854,     Test_Acc: 0.835\n",
      "================================\n",
      "n_neighbors = 5\n",
      "Acc: 0.871,     Test_Acc: 0.870\n",
      "================================\n",
      "n_neighbors = 6\n",
      "Acc: 0.852,     Test_Acc: 0.875\n",
      "================================\n",
      "n_neighbors = 7\n",
      "Acc: 0.862,     Test_Acc: 0.890\n",
      "================================\n",
      "n_neighbors = 8\n",
      "Acc: 0.843,     Test_Acc: 0.885\n",
      "================================\n",
      "n_neighbors = 9\n",
      "Acc: 0.861,     Test_Acc: 0.895\n",
      "================================\n"
     ]
    }
   ],
   "source": [
    "for i in range(1, 10):\n",
    "    Model = KNeighborsClassifier(n_neighbors = i)\n",
    "    Model.fit(n_train_X, n_train_y)\n",
    "    Acc = Model.score(n_train_X, n_train_y)\n",
    "    \n",
    "    Predicted = Model.predict(n_test_X)\n",
    "    Test_acc = cal_test_acc(Predicted, n_test_y)\n",
    "    print(\"n_neighbors = {}\".format(i))\n",
    "    print(\"Acc: {:.3f},     Test_Acc: {:.3f}\".format(Acc, Test_acc))\n",
    "    print(\"================================\")"
   ]
  },
  {
   "cell_type": "code",
   "execution_count": 14,
   "metadata": {},
   "outputs": [],
   "source": [
    "Model = KNeighborsClassifier(n_neighbors = 5)\n",
    "Model.fit(n_train_X, n_train_y)\n",
    "Acc = Model.score(n_train_X, n_train_y)"
   ]
  },
  {
   "cell_type": "code",
   "execution_count": 15,
   "metadata": {},
   "outputs": [
    {
     "name": "stderr",
     "output_type": "stream",
     "text": [
      "C:\\Users\\jason\\anaconda3\\lib\\site-packages\\sklearn\\utils\\deprecation.py:87: FutureWarning: Function plot_confusion_matrix is deprecated; Function `plot_confusion_matrix` is deprecated in 1.0 and will be removed in 1.2. Use one of the class methods: ConfusionMatrixDisplay.from_predictions or ConfusionMatrixDisplay.from_estimator.\n",
      "  warnings.warn(msg, category=FutureWarning)\n",
      "C:\\Users\\jason\\anaconda3\\lib\\site-packages\\sklearn\\utils\\deprecation.py:87: FutureWarning: Function plot_confusion_matrix is deprecated; Function `plot_confusion_matrix` is deprecated in 1.0 and will be removed in 1.2. Use one of the class methods: ConfusionMatrixDisplay.from_predictions or ConfusionMatrixDisplay.from_estimator.\n",
      "  warnings.warn(msg, category=FutureWarning)\n"
     ]
    },
    {
     "data": {
      "text/plain": [
       "Text(0.5, 0, 'Predicted Label of Testing Data')"
      ]
     },
     "execution_count": 15,
     "metadata": {},
     "output_type": "execute_result"
    },
    {
     "data": {
      "image/png": "[encoded data removed]",
      "text/plain": [
       "<Figure size 432x288 with 2 Axes>"
      ]
     },
     "metadata": {
      "needs_background": "light"
     },
     "output_type": "display_data"
    },
    {
     "data": {
      "image/png": "[encoded data removed]",
      "text/plain": [
       "<Figure size 432x288 with 2 Axes>"
      ]
     },
     "metadata": {
      "needs_background": "light"
     },
     "output_type": "display_data"
    }
   ],
   "source": [
    "plot_confusion_matrix(Model, n_train_X, n_train_y, cmap=plt.cm.Blues)\n",
    "plt.title(\"Confusion Matrix of Training Data\")\n",
    "plt.xlabel(\"Predicted Label of Training Data\")\n",
    "\n",
    "plot_confusion_matrix(Model, n_test_X, n_test_y, cmap=plt.cm.Blues)\n",
    "plt.title(\"Confusion Matrix of Testing Data\")\n",
    "plt.xlabel(\"Predicted Label of Testing Data\")"
   ]
  },
  {
   "cell_type": "markdown",
   "metadata": {},
   "source": [
    "# Naive Bayes Classifier\n",
    "## Data without Noise"
   ]
  },
  {
   "cell_type": "code",
   "execution_count": 16,
   "metadata": {},
   "outputs": [],
   "source": [
    "data = pd.read_csv(\"data.csv\")\n",
    "\n",
    "train_data = data[:800]\n",
    "test_data = data[800:]\n",
    "\n",
    "train_X = train_data.drop(\"output\", axis=1)\n",
    "train_y = train_data[\"output\"]\n",
    "\n",
    "test_X = test_data.drop(\"output\", axis=1)\n",
    "test_y = test_data[\"output\"]"
   ]
  },
  {
   "cell_type": "code",
   "execution_count": 17,
   "metadata": {},
   "outputs": [
    {
     "name": "stdout",
     "output_type": "stream",
     "text": [
      "0.765\n",
      "0.78\n"
     ]
    }
   ],
   "source": [
    "from sklearn.naive_bayes import GaussianNB\n",
    "\n",
    "model = GaussianNB()\n",
    "model.fit(train_X, train_y)\n",
    "Acc = model.score(train_X, train_y)\n",
    "Predicted = model.predict(test_X)\n",
    "\n",
    "test_Acc = cal_test_acc(Predicted, test_y) \n",
    "\n",
    "print(Acc)\n",
    "print(test_Acc)"
   ]
  },
  {
   "cell_type": "code",
   "execution_count": 18,
   "metadata": {},
   "outputs": [
    {
     "name": "stderr",
     "output_type": "stream",
     "text": [
      "C:\\Users\\jason\\anaconda3\\lib\\site-packages\\sklearn\\utils\\deprecation.py:87: FutureWarning: Function plot_confusion_matrix is deprecated; Function `plot_confusion_matrix` is deprecated in 1.0 and will be removed in 1.2. Use one of the class methods: ConfusionMatrixDisplay.from_predictions or ConfusionMatrixDisplay.from_estimator.\n",
      "  warnings.warn(msg, category=FutureWarning)\n",
      "C:\\Users\\jason\\anaconda3\\lib\\site-packages\\sklearn\\utils\\deprecation.py:87: FutureWarning: Function plot_confusion_matrix is deprecated; Function `plot_confusion_matrix` is deprecated in 1.0 and will be removed in 1.2. Use one of the class methods: ConfusionMatrixDisplay.from_predictions or ConfusionMatrixDisplay.from_estimator.\n",
      "  warnings.warn(msg, category=FutureWarning)\n"
     ]
    },
    {
     "data": {
      "text/plain": [
       "Text(0.5, 1.0, 'Confusion Matrix of Testing Data. Acc = 0.78')"
      ]
     },
     "execution_count": 18,
     "metadata": {},
     "output_type": "execute_result"
    },
    {
     "data": {
      "image/png": "[encoded data removed]",
      "text/plain": [
       "<Figure size 432x288 with 2 Axes>"
      ]
     },
     "metadata": {
      "needs_background": "light"
     },
     "output_type": "display_data"
    },
    {
     "data": {
      "image/png": "[encoded data removed]",
      "text/plain": [
       "<Figure size 432x288 with 2 Axes>"
      ]
     },
     "metadata": {
      "needs_background": "light"
     },
     "output_type": "display_data"
    }
   ],
   "source": [
    "plot_confusion_matrix(model, train_X, train_y, cmap=plt.cm.Blues)\n",
    "plt.title(\"Confusion Matrix of Training Data. Acc = 0.765\")\n",
    "\n",
    "plot_confusion_matrix(model, test_X, test_y, cmap=plt.cm.Blues)\n",
    "plt.title(\"Confusion Matrix of Testing Data. Acc = 0.78\")"
   ]
  },
  {
   "cell_type": "code",
   "execution_count": 19,
   "metadata": {
    "scrolled": true
   },
   "outputs": [
    {
     "name": "stdout",
     "output_type": "stream",
     "text": [
      "0:  [0 0 0 0 1 1 0 1 0 0 0 0 0 1 0 1 0 1]\n",
      "3:  [1 0 1 0 0 1 0 0 0 1 1 1 1 0 0 1 0 1]\n",
      "9:  [0 0 0 1 1 1 1 0 1 1 1 1 1 0 0 0 0 1]\n",
      "13:  [0 0 0 1 0 0 0 0 1 0 1 0 0 0 0 0 0 1]\n",
      "15:  [1 0 0 1 1 0 1 0 0 0 1 1 1 1 0 0 0 1]\n",
      "25:  [1 1 1 1 0 1 1 0 0 0 0 0 1 1 1 0 0 0]\n",
      "34:  [1 1 1 0 1 1 1 1 0 0 0 1 0 0 0 1 0 0]\n",
      "36:  [0 0 0 1 0 1 0 0 0 1 1 0 1 1 0 0 0 0]\n",
      "40:  [1 0 1 0 0 0 0 0 1 0 1 0 1 0 0 1 0 1]\n",
      "45:  [1 1 0 0 0 1 0 0 0 1 1 1 0 1 0 1 0 0]\n",
      "46:  [1 0 1 0 1 1 0 0 0 0 1 0 0 1 1 0 0 1]\n",
      "47:  [1 0 1 1 1 0 0 1 0 0 1 1 1 0 0 1 0 1]\n",
      "48:  [0 0 0 0 1 1 0 1 0 0 0 0 1 0 1 0 0 1]\n",
      "51:  [1 0 1 1 0 0 0 0 0 0 1 0 1 0 0 0 0 0]\n",
      "62:  [1 1 1 1 1 1 0 0 0 1 0 1 0 1 1 1 0 1]\n",
      "64:  [0 0 0 1 0 1 0 0 0 1 0 1 1 1 1 1 0 1]\n",
      "66:  [1 0 1 1 1 0 1 0 0 1 0 0 0 1 1 0 0 1]\n",
      "69:  [1 1 1 1 0 1 1 0 0 1 0 1 1 1 1 0 0 1]\n",
      "71:  [0 0 1 1 1 0 1 1 0 0 0 1 0 1 0 0 0 0]\n",
      "84:  [0 1 0 0 0 0 0 1 0 0 0 0 0 1 0 0 0 1]\n",
      "86:  [1 1 0 0 1 0 1 1 0 0 1 0 1 0 0 0 0 0]\n",
      "88:  [1 0 0 0 0 0 1 0 1 0 1 0 1 0 0 1 0 1]\n",
      "92:  [1 0 1 0 1 1 1 0 1 0 0 0 1 1 1 1 0 1]\n",
      "93:  [1 1 0 0 0 1 0 0 0 0 0 0 1 0 0 0 0 1]\n",
      "94:  [0 0 0 1 0 1 1 0 0 0 0 0 0 0 0 0 0 1]\n",
      "97:  [1 0 0 0 1 0 1 0 0 0 0 0 1 1 1 0 0 0]\n",
      "101:  [0 0 0 0 0 1 0 0 0 0 1 0 0 0 1 0 0 0]\n",
      "104:  [1 0 1 0 1 1 1 0 1 1 0 0 1 1 0 1 0 1]\n",
      "108:  [1 1 1 0 1 0 1 1 0 0 1 1 0 1 0 1 0 1]\n",
      "117:  [0 0 0 1 1 1 0 1 1 0 1 0 0 1 0 0 0 1]\n",
      "124:  [0 0 1 0 1 0 1 0 1 1 0 0 0 0 0 1 0 1]\n",
      "128:  [1 0 1 0 1 0 1 0 0 0 0 1 1 0 0 0 0 0]\n",
      "132:  [1 1 1 1 1 0 1 0 1 1 1 0 0 1 0 1 0 1]\n",
      "138:  [0 1 0 1 1 1 1 1 0 1 1 1 1 0 0 0 0 1]\n",
      "150:  [1 0 1 1 0 0 1 0 1 0 1 1 0 1 1 1 0 1]\n",
      "152:  [1 1 0 0 1 0 0 0 1 0 0 1 0 1 0 0 0 1]\n",
      "156:  [1 1 1 0 0 0 1 0 1 0 0 1 1 1 1 1 0 1]\n",
      "165:  [1 0 0 0 0 1 0 0 0 1 0 0 0 1 1 0 0 1]\n",
      "166:  [1 0 1 0 0 0 0 0 1 0 0 0 1 0 0 0 0 1]\n",
      "173:  [0 0 1 1 0 0 0 0 0 0 0 0 0 1 0 0 0 0]\n",
      "184:  [1 1 1 0 0 1 1 0 1 0 0 0 1 0 0 1 0 1]\n",
      "185:  [1 0 1 0 0 1 0 0 0 0 0 1 1 0 1 0 0 1]\n",
      "192:  [0 1 0 0 0 0 0 0 0 1 0 0 0 1 0 1 0 1]\n",
      "199:  [1 0 1 1 1 1 1 1 0 0 0 1 0 0 1 0 0 1]\n"
     ]
    }
   ],
   "source": [
    "#observe the FP data\n",
    "import numpy as np\n",
    "test = np.array(test_X)\n",
    "\n",
    "for i in range(len(Predicted)):\n",
    "    if Predicted[i] == 1 and list(test_y)[i] == 0:\n",
    "        print(\"{}:  {}\".format(i, test[i]))"
   ]
  },
  {
   "cell_type": "markdown",
   "metadata": {},
   "source": [
    "## Data with Noise"
   ]
  },
  {
   "cell_type": "code",
   "execution_count": 20,
   "metadata": {},
   "outputs": [],
   "source": [
    "data = pd.read_csv(\"data_with_noise.csv\")\n",
    "\n",
    "n_train_data = n_data[:1000]\n",
    "n_test_data = n_data[1000:]\n",
    "\n",
    "n_train_X = n_train_data.drop(\"output\", axis=1)\n",
    "n_train_y = n_train_data[\"output\"]\n",
    "\n",
    "n_test_X = n_test_data.drop(\"output\", axis=1)\n",
    "n_test_y = n_test_data[\"output\"]"
   ]
  },
  {
   "cell_type": "code",
   "execution_count": 21,
   "metadata": {},
   "outputs": [
    {
     "name": "stdout",
     "output_type": "stream",
     "text": [
      "0.883\n",
      "0.96\n"
     ]
    }
   ],
   "source": [
    "Model = GaussianNB()\n",
    "Model.fit(n_train_X, n_train_y)\n",
    "Acc = Model.score(n_train_X, n_train_y)\n",
    "Predicted = Model.predict(n_test_X)\n",
    "\n",
    "test_Acc = cal_test_acc(Predicted, n_test_y)\n",
    "\n",
    "print(Acc)\n",
    "print(test_Acc)"
   ]
  },
  {
   "cell_type": "code",
   "execution_count": 22,
   "metadata": {},
   "outputs": [
    {
     "name": "stderr",
     "output_type": "stream",
     "text": [
      "C:\\Users\\jason\\anaconda3\\lib\\site-packages\\sklearn\\utils\\deprecation.py:87: FutureWarning: Function plot_confusion_matrix is deprecated; Function `plot_confusion_matrix` is deprecated in 1.0 and will be removed in 1.2. Use one of the class methods: ConfusionMatrixDisplay.from_predictions or ConfusionMatrixDisplay.from_estimator.\n",
      "  warnings.warn(msg, category=FutureWarning)\n",
      "C:\\Users\\jason\\anaconda3\\lib\\site-packages\\sklearn\\utils\\deprecation.py:87: FutureWarning: Function plot_confusion_matrix is deprecated; Function `plot_confusion_matrix` is deprecated in 1.0 and will be removed in 1.2. Use one of the class methods: ConfusionMatrixDisplay.from_predictions or ConfusionMatrixDisplay.from_estimator.\n",
      "  warnings.warn(msg, category=FutureWarning)\n"
     ]
    },
    {
     "data": {
      "text/plain": [
       "Text(0.5, 1.0, 'Confusion Matrix on Testing Data. Acc = 0.96')"
      ]
     },
     "execution_count": 22,
     "metadata": {},
     "output_type": "execute_result"
    },
    {
     "data": {
      "image/png": "[encoded data removed]",
      "text/plain": [
       "<Figure size 432x288 with 2 Axes>"
      ]
     },
     "metadata": {
      "needs_background": "light"
     },
     "output_type": "display_data"
    },
    {
     "data": {
      "image/png": "[encoded data removed]",
      "text/plain": [
       "<Figure size 432x288 with 2 Axes>"
      ]
     },
     "metadata": {
      "needs_background": "light"
     },
     "output_type": "display_data"
    }
   ],
   "source": [
    "plot_confusion_matrix(Model, n_train_X, n_train_y, cmap=plt.cm.Blues)\n",
    "plt.title(\"Confusion Matrix on Training Data. Acc = 0.883\")\n",
    "\n",
    "plot_confusion_matrix(Model, n_test_X, n_test_y, cmap=plt.cm.Blues)\n",
    "plt.title(\"Confusion Matrix on Testing Data. Acc = 0.96\")"
   ]
  },
  {
   "cell_type": "code",
   "execution_count": null,
   "metadata": {},
   "outputs": [],
   "source": []
  }
 ],
 "metadata": {
  "kernelspec": {
   "display_name": "Python 3",
   "language": "python",
   "name": "python3"
  },
  "language_info": {
   "codemirror_mode": {
    "name": "ipython",
    "version": 3
   },
   "file_extension": ".py",
   "mimetype": "text/x-python",
   "name": "python",
   "nbconvert_exporter": "python",
   "pygments_lexer": "ipython3",
   "version": "3.8.3"
  }
 },
 "nbformat": 4,
 "nbformat_minor": 4
}
