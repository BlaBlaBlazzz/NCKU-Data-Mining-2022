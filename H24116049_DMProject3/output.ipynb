{
 "cells": [
  {
   "cell_type": "markdown",
   "metadata": {},
   "source": [
    "# import package"
   ]
  },
  {
   "cell_type": "code",
   "execution_count": 2,
   "metadata": {},
   "outputs": [],
   "source": [
    "import pandas as pd\n",
    "import numpy as np\n",
    "import networkx as nx\n",
    "import os\n",
    "import matplotlib.pyplot as plt\n",
    "\n",
    "#load the algorithm file\n",
    "import hits\n",
    "import PageRank as pagerank\n",
    "import SimRank as simrank\n",
    "import load_txt"
   ]
  },
  {
   "cell_type": "code",
   "execution_count": 1,
   "metadata": {},
   "outputs": [
    {
     "name": "stdout",
     "output_type": "stream",
     "text": [
      "C:\\Users\\jason\\desktop\\H24116049_DMProject3\\hw3dataset\n"
     ]
    }
   ],
   "source": [
    "cd C:\\Users\\jason\\desktop\\\\H24116049_DMProject3\\hw3dataset"
   ]
  },
  {
   "cell_type": "markdown",
   "metadata": {},
   "source": [
    "# load graph"
   ]
  },
  {
   "cell_type": "code",
   "execution_count": 3,
   "metadata": {},
   "outputs": [
    {
     "data": {
      "text/plain": [
       "[[1, 2], [2, 3], [3, 4], [4, 5], [5, 6]]"
      ]
     },
     "execution_count": 3,
     "metadata": {},
     "output_type": "execute_result"
    }
   ],
   "source": [
    "graph1 = load_txt.load_graph(\"graph_1.txt\")\n",
    "graph1"
   ]
  },
  {
   "cell_type": "code",
   "execution_count": 4,
   "metadata": {},
   "outputs": [
    {
     "data": {
      "text/plain": [
       "[[1, 2], [2, 3], [3, 4], [4, 5], [5, 1]]"
      ]
     },
     "execution_count": 4,
     "metadata": {},
     "output_type": "execute_result"
    }
   ],
   "source": [
    "graph2 = load_txt.load_graph(\"graph_2.txt\")\n",
    "graph2"
   ]
  },
  {
   "cell_type": "code",
   "execution_count": 5,
   "metadata": {},
   "outputs": [
    {
     "data": {
      "text/plain": [
       "[[1, 2], [2, 1], [2, 3], [3, 2], [3, 4], [4, 3]]"
      ]
     },
     "execution_count": 5,
     "metadata": {},
     "output_type": "execute_result"
    }
   ],
   "source": [
    "graph3 = load_txt.load_graph(\"graph_3.txt\")\n",
    "graph3"
   ]
  },
  {
   "cell_type": "code",
   "execution_count": 6,
   "metadata": {},
   "outputs": [
    {
     "name": "stdout",
     "output_type": "stream",
     "text": [
      "[[1, 2], [1, 3], [1, 4], [1, 5], [1, 7], [2, 1], [3, 1], [3, 2], [4, 2], [4, 3], [4, 5], [5, 1], [5, 3], [5, 4], [5, 6], [6, 1], [6, 5], [7, 5]]\n"
     ]
    }
   ],
   "source": [
    "graph4 = load_txt.load_graph(\"graph_4.txt\")\n",
    "print(graph4)"
   ]
  },
  {
   "cell_type": "code",
   "execution_count": 7,
   "metadata": {},
   "outputs": [],
   "source": [
    "graph5 = load_txt.load_graph(\"graph_5.txt\")"
   ]
  },
  {
   "cell_type": "code",
   "execution_count": 8,
   "metadata": {},
   "outputs": [],
   "source": [
    "graph6 = load_txt.load_graph(\"graph_6.txt\")"
   ]
  },
  {
   "cell_type": "code",
   "execution_count": 39,
   "metadata": {},
   "outputs": [],
   "source": [
    "graph_ibm = load_txt.load_ibm_graph(\"ibm-5000.txt\")"
   ]
  },
  {
   "cell_type": "markdown",
   "metadata": {},
   "source": [
    "# HITS"
   ]
  },
  {
   "cell_type": "markdown",
   "metadata": {},
   "source": [
    "## Graph 1"
   ]
  },
  {
   "cell_type": "code",
   "execution_count": 26,
   "metadata": {},
   "outputs": [
    {
     "name": "stdout",
     "output_type": "stream",
     "text": [
      "auth1: [0.0, 0.2, 0.2, 0.2, 0.2, 0.2]\n",
      "hubs1: [0.2, 0.2, 0.2, 0.2, 0.2, 0.0]\n",
      "Wall time: 7.97 ms\n"
     ]
    }
   ],
   "source": [
    "%%time\n",
    "iteration = 30\n",
    "auth1, hubs1, nodes1 = hits.HITS(graph1, iteration)\n",
    "print(\"auth1: {}\".format(auth1))\n",
    "print(\"hubs1: {}\".format(hubs1))\n",
    "\n",
    "#generate auth and hubs file\n",
    "os.chdir(r'C:\\Users\\jason\\desktop\\H24116049_DMProject3\\result\\graph1')\n",
    "np.savetxt(\"graph_1_HITS_authority.txt\", auth1, fmt='%1.1f', newline=' ')\n",
    "np.savetxt(\"graph_1_HITS_hub.txt\", hubs1, fmt='%1.1f', newline=' ')"
   ]
  },
  {
   "cell_type": "code",
   "execution_count": 11,
   "metadata": {},
   "outputs": [
    {
     "data": {
      "image/png": "[encoded data removed]",
      "text/plain": [
       "<Figure size 1152x576 with 1 Axes>"
      ]
     },
     "metadata": {},
     "output_type": "display_data"
    }
   ],
   "source": [
    "g = nx.DiGraph()\n",
    "g.add_nodes_from([i for i in nodes1])\n",
    "g.add_edges_from(graph1)\n",
    "\n",
    "fig=plt.figure(figsize=(16,8))\n",
    "ax1=fig.add_subplot(2,2,1)\n",
    "ax1.set_title('Graph 1')\n",
    "nx.draw(g, with_labels=True, node_color='red')"
   ]
  },
  {
   "cell_type": "markdown",
   "metadata": {},
   "source": [
    "### Graph1 increase authority"
   ]
  },
  {
   "cell_type": "code",
   "execution_count": 12,
   "metadata": {},
   "outputs": [
    {
     "name": "stdout",
     "output_type": "stream",
     "text": [
      "auth1: [0.167, 0.167, 0.167, 0.167, 0.167, 0.167]\n",
      "hubs1: [0.167, 0.167, 0.167, 0.167, 0.167, 0.167]\n"
     ]
    },
    {
     "data": {
      "image/png": "[encoded data removed]",
      "text/plain": [
       "<Figure size 1152x576 with 1 Axes>"
      ]
     },
     "metadata": {},
     "output_type": "display_data"
    }
   ],
   "source": [
    "graph1_a = [[1, 2], [2, 3], [3, 4], [4, 5], [5, 6], [6, 1]]\n",
    "auth1, hubs1, nodes1 = hits.HITS(graph1_a, iteration)\n",
    "print(\"auth1: {}\".format(auth1))\n",
    "print(\"hubs1: {}\".format(hubs1))\n",
    "\n",
    "g = nx.DiGraph()\n",
    "g.add_nodes_from([i for i in nodes1])\n",
    "g.add_edges_from(graph1_a)\n",
    "\n",
    "fig=plt.figure(figsize=(16,8))\n",
    "ax1=fig.add_subplot(2,2,1)\n",
    "ax1.set_title('Graph 1: increase Authority')\n",
    "nx.draw(g, with_labels=True, node_color='red')"
   ]
  },
  {
   "cell_type": "markdown",
   "metadata": {},
   "source": [
    "### Graph1 increase hub"
   ]
  },
  {
   "cell_type": "code",
   "execution_count": 13,
   "metadata": {},
   "outputs": [
    {
     "name": "stdout",
     "output_type": "stream",
     "text": [
      "auth1: [0.0, 0.382, 0.0, 0.0, 0.0, 0.618]\n",
      "hubs1: [0.618, 0.0, 0.0, 0.0, 0.382, 0.0]\n"
     ]
    },
    {
     "data": {
      "image/png": "[encoded data removed]",
      "text/plain": [
       "<Figure size 1152x576 with 1 Axes>"
      ]
     },
     "metadata": {},
     "output_type": "display_data"
    }
   ],
   "source": [
    "graph1_h = [[1, 2], [2, 3], [3, 4], [4, 5], [5, 6], [1, 6]]\n",
    "auth1, hubs1, nodes1 = hits.HITS(graph1_h, iteration)\n",
    "print(\"auth1: {}\".format(auth1))\n",
    "print(\"hubs1: {}\".format(hubs1))\n",
    "\n",
    "g = nx.DiGraph()\n",
    "g.add_nodes_from([i for i in nodes1])\n",
    "g.add_edges_from(graph1_h)\n",
    "\n",
    "fig=plt.figure(figsize=(16,8))\n",
    "ax1=fig.add_subplot(2,2,1)\n",
    "ax1.set_title('Graph 1: increase Hubs')\n",
    "nx.draw(g, with_labels=True, node_color='red')"
   ]
  },
  {
   "cell_type": "markdown",
   "metadata": {},
   "source": [
    "## Graph 2"
   ]
  },
  {
   "cell_type": "code",
   "execution_count": 27,
   "metadata": {},
   "outputs": [
    {
     "name": "stdout",
     "output_type": "stream",
     "text": [
      "auth2: [0.2, 0.2, 0.2, 0.2, 0.2]\n",
      "hubs2: [0.2, 0.2, 0.2, 0.2, 0.2]\n",
      "Wall time: 6.98 ms\n"
     ]
    }
   ],
   "source": [
    "%%time\n",
    "auth2, hubs2, nodes2 = hits.HITS(graph2, iteration)\n",
    "print(\"auth2: {}\".format(auth2))\n",
    "print(\"hubs2: {}\".format(hubs2))\n",
    "\n",
    "#generate auth and hubs file\n",
    "os.chdir(r'C:\\Users\\jason\\desktop\\H24116049_DMProject3\\result\\graph2')\n",
    "np.savetxt(\"graph_2_HITS_authority.txt\", auth2, fmt='%1.1f', newline=' ')\n",
    "np.savetxt(\"graph_2_HITS_hub.txt\", hubs2, fmt='%1.1f', newline=' ')"
   ]
  },
  {
   "cell_type": "code",
   "execution_count": 15,
   "metadata": {},
   "outputs": [
    {
     "data": {
      "image/png": "[encoded data removed]",
      "text/plain": [
       "<Figure size 1152x576 with 1 Axes>"
      ]
     },
     "metadata": {},
     "output_type": "display_data"
    }
   ],
   "source": [
    "g = nx.DiGraph()\n",
    "g.add_nodes_from([i for i in nodes2])\n",
    "g.add_edges_from(graph2)\n",
    "\n",
    "fig=plt.figure(figsize=(16,8))\n",
    "ax1=fig.add_subplot(2,2,1)\n",
    "ax1.set_title('Graph 2')\n",
    "nx.draw(g, with_labels=True, node_color='red') "
   ]
  },
  {
   "cell_type": "markdown",
   "metadata": {},
   "source": [
    "### Graph2 increase authority"
   ]
  },
  {
   "cell_type": "code",
   "execution_count": 16,
   "metadata": {},
   "outputs": [
    {
     "name": "stdout",
     "output_type": "stream",
     "text": [
      "auth2: [0.618, 0.0, 0.0, 0.0, 0.382]\n",
      "hubs2: [0.0, 0.0, 0.0, 0.618, 0.382]\n"
     ]
    },
    {
     "data": {
      "image/png": "[encoded data removed]",
      "text/plain": [
       "<Figure size 1152x576 with 1 Axes>"
      ]
     },
     "metadata": {},
     "output_type": "display_data"
    }
   ],
   "source": [
    "graph2_a = [[1, 2], [2, 3], [3, 4], [4, 5], [5, 1], [4, 1]]\n",
    "auth2, hubs2, nodes2 = hits.HITS(graph2_a, iteration)\n",
    "print(\"auth2: {}\".format(auth2))\n",
    "print(\"hubs2: {}\".format(hubs2))\n",
    "\n",
    "g = nx.DiGraph()\n",
    "g.add_nodes_from([i for i in nodes2])\n",
    "g.add_edges_from(graph2_a)\n",
    "\n",
    "fig=plt.figure(figsize=(16,8))\n",
    "ax1=fig.add_subplot(2,2,1)\n",
    "ax1.set_title('Graph 2: increase authority')\n",
    "nx.draw(g, with_labels=True, node_color='red')"
   ]
  },
  {
   "cell_type": "markdown",
   "metadata": {},
   "source": [
    "### Graph2 increase hubs"
   ]
  },
  {
   "cell_type": "code",
   "execution_count": 17,
   "metadata": {},
   "outputs": [
    {
     "name": "stdout",
     "output_type": "stream",
     "text": [
      "auth2: [0.0, 0.382, 0.0, 0.618, 0.0]\n",
      "hubs2: [0.618, 0.0, 0.382, 0.0, 0.0]\n"
     ]
    },
    {
     "data": {
      "image/png": "[encoded data removed]",
      "text/plain": [
       "<Figure size 1152x576 with 1 Axes>"
      ]
     },
     "metadata": {},
     "output_type": "display_data"
    }
   ],
   "source": [
    "graph2_h = [[1, 2], [2, 3], [3, 4], [4, 5], [5, 1], [1, 4]]\n",
    "auth2, hubs2, nodes2 = hits.HITS(graph2_h, iteration)\n",
    "print(\"auth2: {}\".format(auth2))\n",
    "print(\"hubs2: {}\".format(hubs2))\n",
    "\n",
    "g = nx.DiGraph()\n",
    "g.add_nodes_from([i for i in nodes2])\n",
    "g.add_edges_from(graph2_h)\n",
    "\n",
    "fig=plt.figure(figsize=(16,8))\n",
    "ax1=fig.add_subplot(2,2,1)\n",
    "ax1.set_title('Graph 2: increase hub')\n",
    "nx.draw(g, with_labels=True, node_color='red')"
   ]
  },
  {
   "cell_type": "markdown",
   "metadata": {},
   "source": [
    "## Graph 3"
   ]
  },
  {
   "cell_type": "code",
   "execution_count": 28,
   "metadata": {},
   "outputs": [
    {
     "name": "stdout",
     "output_type": "stream",
     "text": [
      "auth3: [0.191, 0.309, 0.309, 0.191]\n",
      "hubs3: [0.191, 0.309, 0.309, 0.191]\n",
      "Wall time: 7.57 ms\n"
     ]
    }
   ],
   "source": [
    "%%time\n",
    "auth3, hubs3, nodes3 = hits.HITS(graph3, iteration)\n",
    "print(\"auth3: {}\".format(auth3))\n",
    "print(\"hubs3: {}\".format(hubs3))\n",
    "\n",
    "#generate auth and hubs file\n",
    "os.chdir(r'C:\\Users\\jason\\desktop\\H24116049_DMProject3\\result\\graph3')\n",
    "np.savetxt(\"graph_3_HITS_authority.txt\", auth3, fmt='%1.3f', newline=' ')\n",
    "np.savetxt(\"graph_3_HITS_hub.txt\", hubs3, fmt='%1.3f', newline=' ')"
   ]
  },
  {
   "cell_type": "code",
   "execution_count": 19,
   "metadata": {},
   "outputs": [
    {
     "data": {
      "image/png": "[encoded data removed]",
      "text/plain": [
       "<Figure size 1152x576 with 1 Axes>"
      ]
     },
     "metadata": {},
     "output_type": "display_data"
    }
   ],
   "source": [
    "g = nx.DiGraph()\n",
    "g.add_nodes_from([i for i in nodes3])\n",
    "g.add_edges_from(graph3)\n",
    "\n",
    "fig=plt.figure(figsize=(16,8))\n",
    "ax1=fig.add_subplot(2,2,1)\n",
    "ax1.set_title('Graph 3')\n",
    "nx.draw(g, with_labels=True, node_color='red') "
   ]
  },
  {
   "cell_type": "markdown",
   "metadata": {},
   "source": [
    "### Graph3 increase authority"
   ]
  },
  {
   "cell_type": "code",
   "execution_count": 20,
   "metadata": {},
   "outputs": [
    {
     "name": "stdout",
     "output_type": "stream",
     "text": [
      "auth3: [0.5, 0.0, 0.5, 0.0]\n",
      "hubs3: [0.0, 0.5, 0.0, 0.5]\n"
     ]
    },
    {
     "data": {
      "image/png": "[encoded data removed]",
      "text/plain": [
       "<Figure size 1152x576 with 1 Axes>"
      ]
     },
     "metadata": {},
     "output_type": "display_data"
    }
   ],
   "source": [
    "graph3_a = [[1, 2], [2, 1], [2, 3], [3, 2], [3, 4], [4, 3], [4, 1]]\n",
    "auth3, hubs3, nodes3 = hits.HITS(graph3_a, iteration)\n",
    "print(\"auth3: {}\".format(auth3))\n",
    "print(\"hubs3: {}\".format(hubs3))\n",
    "\n",
    "g = nx.DiGraph()\n",
    "g.add_nodes_from([i for i in nodes3])\n",
    "g.add_edges_from(graph3_a)\n",
    "\n",
    "fig=plt.figure(figsize=(16,8))\n",
    "ax1=fig.add_subplot(2,2,1)\n",
    "ax1.set_title('Graph 3: increase authority')\n",
    "nx.draw(g, with_labels=True, node_color='red') "
   ]
  },
  {
   "cell_type": "markdown",
   "metadata": {},
   "source": [
    "### Graph3 increase hubs"
   ]
  },
  {
   "cell_type": "code",
   "execution_count": 21,
   "metadata": {},
   "outputs": [
    {
     "name": "stdout",
     "output_type": "stream",
     "text": [
      "auth3: [0.0, 0.5, 0.0, 0.5]\n",
      "hubs3: [0.5, 0.0, 0.5, 0.0]\n"
     ]
    },
    {
     "data": {
      "image/png": "[encoded data removed]",
      "text/plain": [
       "<Figure size 1152x576 with 1 Axes>"
      ]
     },
     "metadata": {},
     "output_type": "display_data"
    }
   ],
   "source": [
    "graph3_h = [[1, 2], [2, 1], [2, 3], [3, 2], [3, 4], [4, 3], [1, 4]]\n",
    "auth3, hubs3, nodes3 = hits.HITS(graph3_h, iteration)\n",
    "print(\"auth3: {}\".format(auth3))\n",
    "print(\"hubs3: {}\".format(hubs3))\n",
    "\n",
    "g = nx.DiGraph()\n",
    "g.add_nodes_from([i for i in nodes3])\n",
    "g.add_edges_from(graph3_h)\n",
    "\n",
    "fig=plt.figure(figsize=(16,8))\n",
    "ax1=fig.add_subplot(2,2,1)\n",
    "ax1.set_title('Graph 3: increase hub')\n",
    "nx.draw(g, with_labels=True, node_color='red') "
   ]
  },
  {
   "cell_type": "markdown",
   "metadata": {},
   "source": [
    "## Graph 4"
   ]
  },
  {
   "cell_type": "code",
   "execution_count": 29,
   "metadata": {},
   "outputs": [
    {
     "name": "stdout",
     "output_type": "stream",
     "text": [
      "auth4: [0.139, 0.178, 0.201, 0.14, 0.201, 0.056, 0.084]\n",
      "hubs4: [0.275, 0.048, 0.109, 0.199, 0.184, 0.117, 0.069]\n",
      "Wall time: 8.03 ms\n"
     ]
    }
   ],
   "source": [
    "%%time\n",
    "auth4, hubs4, nodes4 = hits.HITS(graph4, iteration)\n",
    "print(\"auth4: {}\".format(auth4))\n",
    "print(\"hubs4: {}\".format(hubs4))\n",
    "\n",
    "#generate auth and hubs file\n",
    "os.chdir(r'C:\\Users\\jason\\desktop\\H24116049_DMProject3\\result\\graph4')\n",
    "np.savetxt(\"graph_4_HITS_authority.txt\", auth4, fmt='%1.3f', newline=' ')\n",
    "np.savetxt(\"graph_4_HITS_hub.txt\", hubs4, fmt='%1.3f', newline=' ')"
   ]
  },
  {
   "cell_type": "code",
   "execution_count": 23,
   "metadata": {},
   "outputs": [
    {
     "data": {
      "image/png": "[encoded data removed]",
      "text/plain": [
       "<Figure size 1152x576 with 1 Axes>"
      ]
     },
     "metadata": {},
     "output_type": "display_data"
    }
   ],
   "source": [
    "g = nx.DiGraph()\n",
    "g.add_nodes_from([i for i in nodes4])\n",
    "g.add_edges_from(graph4)\n",
    "\n",
    "fig=plt.figure(figsize=(16,8))\n",
    "ax1=fig.add_subplot(2,2,1)\n",
    "ax1.set_title('Graph 4')\n",
    "nx.draw(g, with_labels=True, node_color='red') "
   ]
  },
  {
   "cell_type": "markdown",
   "metadata": {},
   "source": [
    "## Graph 5"
   ]
  },
  {
   "cell_type": "code",
   "execution_count": 55,
   "metadata": {},
   "outputs": [
    {
     "name": "stdout",
     "output_type": "stream",
     "text": [
      "Wall time: 3.36 s\n"
     ]
    }
   ],
   "source": [
    "%%time\n",
    "auth5, hubs5, nodes5 = hits.HITS(graph5, iteration)\n",
    "# print(\"auth5: {}\".format(auth5))\n",
    "# print(\"hubs5: {}\".format(hubs5))\n",
    "\n",
    "#generate auth and hubs file\n",
    "os.chdir(r'C:\\Users\\jason\\desktop\\H24116049_DMProject3\\result\\graph5')\n",
    "np.savetxt(\"graph_5_HITS_authority.txt\", auth5, fmt='%1.3f', newline=' ')\n",
    "np.savetxt(\"graph_5_HITS_hub.txt\", hubs5, fmt='%1.3f', newline=' ')"
   ]
  },
  {
   "cell_type": "markdown",
   "metadata": {},
   "source": [
    "## Graph 6"
   ]
  },
  {
   "cell_type": "code",
   "execution_count": 19,
   "metadata": {},
   "outputs": [
    {
     "name": "stdout",
     "output_type": "stream",
     "text": [
      "Wall time: 53.3 s\n"
     ]
    }
   ],
   "source": [
    "%%time\n",
    "auth6, hubs6, nodes6 = hits.HITS(graph6, iteration)\n",
    "\n",
    "#generate auth and hubs file\n",
    "os.chdir(r'C:\\Users\\jason\\desktop\\H24116049_DMProject3\\result\\graph6')\n",
    "np.savetxt(\"graph_6_HITS_authority.txt\", auth6, fmt='%1.3f', newline=' ')\n",
    "np.savetxt(\"graph_6_HITS_hub.txt\", hubs6, fmt='%1.3f', newline=' ')"
   ]
  },
  {
   "cell_type": "markdown",
   "metadata": {},
   "source": [
    "## Graph ibm-5000"
   ]
  },
  {
   "cell_type": "code",
   "execution_count": 12,
   "metadata": {},
   "outputs": [
    {
     "name": "stdout",
     "output_type": "stream",
     "text": [
      "Wall time: 33.2 s\n"
     ]
    }
   ],
   "source": [
    "%%time\n",
    "auth7, hubs7, nodes7 = hits.HITS(graph_ibm, iteration)\n",
    "\n",
    "#generate auth and hubs file\n",
    "os.chdir(r'C:\\Users\\jason\\desktop\\H24116049_DMProject3\\result\\ibm-5000')\n",
    "np.savetxt(\"ibm-5000_HITS_authority.txt\", auth7, fmt='%1.3f', newline=' ')\n",
    "np.savetxt(\"ibm-5000_HITS_hub.txt\", hubs7, fmt='%1.3f', newline=' ')"
   ]
  },
  {
   "cell_type": "markdown",
   "metadata": {},
   "source": [
    "# PageRank"
   ]
  },
  {
   "cell_type": "markdown",
   "metadata": {},
   "source": [
    "## Graph 1"
   ]
  },
  {
   "cell_type": "code",
   "execution_count": 30,
   "metadata": {},
   "outputs": [
    {
     "name": "stdout",
     "output_type": "stream",
     "text": [
      "pagerank1:  [0.056, 0.107, 0.152, 0.193, 0.23, 0.263]\n",
      "Wall time: 4.26 ms\n"
     ]
    }
   ],
   "source": [
    "%%time\n",
    "d = 0.1\n",
    "iteration = 30\n",
    "pagerank1 = pagerank.PageRank(graph1, d, iteration)\n",
    "print(\"pagerank1: \", pagerank1)\n",
    "\n",
    "#generate pagerank file\n",
    "os.chdir(r'C:\\Users\\jason\\desktop\\H24116049_DMProject3\\result\\graph1')\n",
    "np.savetxt(\"graph_1_PageRank.txt\", pagerank1, fmt='%1.3f', newline=' ')"
   ]
  },
  {
   "cell_type": "code",
   "execution_count": 21,
   "metadata": {},
   "outputs": [
    {
     "data": {
      "image/png": "[encoded data removed]",
      "text/plain": [
       "<Figure size 1152x576 with 1 Axes>"
      ]
     },
     "metadata": {},
     "output_type": "display_data"
    }
   ],
   "source": [
    "g = nx.DiGraph()\n",
    "g.add_nodes_from([i for i in nodes1])\n",
    "g.add_edges_from(graph1)\n",
    "\n",
    "fig=plt.figure(figsize=(16,8))\n",
    "ax1=fig.add_subplot(2,2,1)\n",
    "ax1.set_title('Graph 1')\n",
    "nx.draw(g, with_labels=True, node_color='red')"
   ]
  },
  {
   "cell_type": "markdown",
   "metadata": {},
   "source": [
    "### Graph1 increase pagerank"
   ]
  },
  {
   "cell_type": "code",
   "execution_count": 25,
   "metadata": {},
   "outputs": [
    {
     "name": "stdout",
     "output_type": "stream",
     "text": [
      "pagerank1: [0.167, 0.167, 0.167, 0.167, 0.167, 0.167]\n"
     ]
    },
    {
     "data": {
      "image/png": "[encoded data removed]",
      "text/plain": [
       "<Figure size 1152x576 with 1 Axes>"
      ]
     },
     "metadata": {},
     "output_type": "display_data"
    }
   ],
   "source": [
    "graph1_p = [[1, 2], [2, 3], [3, 4], [4, 5], [5, 6], [6, 1]]\n",
    "pagerank1_p = pagerank.PageRank(graph1_p, d, iteration)\n",
    "print(\"pagerank1: {}\".format(pagerank1_p))\n",
    "\n",
    "g = nx.DiGraph()\n",
    "g.add_nodes_from([i for i in nodes1])\n",
    "g.add_edges_from(graph1_p)\n",
    "\n",
    "fig=plt.figure(figsize=(16,8))\n",
    "ax1=fig.add_subplot(2,2,1)\n",
    "ax1.set_title('Graph 1: increase PageRank')\n",
    "nx.draw(g, with_labels=True, node_color='red')"
   ]
  },
  {
   "cell_type": "markdown",
   "metadata": {},
   "source": [
    "## Graph 2"
   ]
  },
  {
   "cell_type": "code",
   "execution_count": 31,
   "metadata": {},
   "outputs": [
    {
     "name": "stdout",
     "output_type": "stream",
     "text": [
      "pagerank2:  [0.2, 0.2, 0.2, 0.2, 0.2]\n",
      "Wall time: 6.66 ms\n"
     ]
    }
   ],
   "source": [
    "%%time\n",
    "pagerank2 = pagerank.PageRank(graph2, d, iteration)\n",
    "print(\"pagerank2: \", pagerank2)\n",
    "\n",
    "#generate pagerank file\n",
    "os.chdir(r'C:\\Users\\jason\\desktop\\H24116049_DMProject3\\result\\graph2')\n",
    "np.savetxt(\"graph_2_PageRank.txt\", pagerank2, fmt='%1.1f', newline=' ')"
   ]
  },
  {
   "cell_type": "code",
   "execution_count": 27,
   "metadata": {},
   "outputs": [
    {
     "data": {
      "image/png": "[encoded data removed]",
      "text/plain": [
       "<Figure size 1152x576 with 1 Axes>"
      ]
     },
     "metadata": {},
     "output_type": "display_data"
    }
   ],
   "source": [
    "g = nx.DiGraph()\n",
    "g.add_nodes_from([i for i in nodes2])\n",
    "g.add_edges_from(graph2)\n",
    "\n",
    "fig=plt.figure(figsize=(16,8))\n",
    "ax1=fig.add_subplot(2,2,1)\n",
    "ax1.set_title('Graph 2')\n",
    "nx.draw(g, with_labels=True, node_color='red') "
   ]
  },
  {
   "cell_type": "markdown",
   "metadata": {},
   "source": [
    "### Graph2 increase pagerank"
   ]
  },
  {
   "cell_type": "code",
   "execution_count": 28,
   "metadata": {},
   "outputs": [
    {
     "name": "stdout",
     "output_type": "stream",
     "text": [
      "pagerank2: [0.224, 0.222, 0.219, 0.217, 0.118]\n"
     ]
    },
    {
     "data": {
      "image/png": "[encoded data removed]",
      "text/plain": [
       "<Figure size 1152x576 with 1 Axes>"
      ]
     },
     "metadata": {},
     "output_type": "display_data"
    }
   ],
   "source": [
    "graph2_p = [[1, 2], [2, 3], [3, 4], [4, 5], [5, 1], [4, 1]]\n",
    "pagerank2_p = pagerank.PageRank(graph2_p, d, iteration)\n",
    "print(\"pagerank2: {}\".format(pagerank2_p))\n",
    "\n",
    "g = nx.DiGraph()\n",
    "g.add_nodes_from([i for i in nodes2])\n",
    "g.add_edges_from(graph2_p)\n",
    "\n",
    "fig=plt.figure(figsize=(16,8))\n",
    "ax1=fig.add_subplot(2,2,1)\n",
    "ax1.set_title('Graph 2: increase PageRank')\n",
    "nx.draw(g, with_labels=True, node_color='red')"
   ]
  },
  {
   "cell_type": "markdown",
   "metadata": {},
   "source": [
    "## Graph 3"
   ]
  },
  {
   "cell_type": "code",
   "execution_count": 32,
   "metadata": {},
   "outputs": [
    {
     "name": "stdout",
     "output_type": "stream",
     "text": [
      "pagerank3:  [0.172, 0.328, 0.328, 0.172]\n",
      "Wall time: 2.97 ms\n"
     ]
    }
   ],
   "source": [
    "%%time\n",
    "pagerank3 = pagerank.PageRank(graph3, d, iteration)\n",
    "print(\"pagerank3: \", pagerank3)\n",
    "\n",
    "#generate pagerank file\n",
    "os.chdir(r'C:\\Users\\jason\\desktop\\H24116049_DMProject3\\result\\graph3')\n",
    "np.savetxt(\"graph_3_PageRank.txt\", pagerank3, fmt='%1.3f', newline=' ')"
   ]
  },
  {
   "cell_type": "code",
   "execution_count": 14,
   "metadata": {},
   "outputs": [
    {
     "data": {
      "image/png": "[encoded data removed]",
      "text/plain": [
       "<Figure size 1152x576 with 1 Axes>"
      ]
     },
     "metadata": {},
     "output_type": "display_data"
    }
   ],
   "source": [
    "g = nx.DiGraph()\n",
    "g.add_nodes_from([i for i in nodes3])\n",
    "g.add_edges_from(graph3)\n",
    "\n",
    "fig=plt.figure(figsize=(16,8))\n",
    "ax1=fig.add_subplot(2,2,1)\n",
    "ax1.set_title('Graph 3')\n",
    "nx.draw(g, with_labels=True, node_color='red') "
   ]
  },
  {
   "cell_type": "markdown",
   "metadata": {},
   "source": [
    "### Graph3 increase pagerank"
   ]
  },
  {
   "cell_type": "code",
   "execution_count": 30,
   "metadata": {},
   "outputs": [
    {
     "name": "stdout",
     "output_type": "stream",
     "text": [
      "pagerank3: [0.25, 0.363, 0.25, 0.138]\n"
     ]
    },
    {
     "data": {
      "image/png": "[encoded data removed]",
      "text/plain": [
       "<Figure size 1152x576 with 1 Axes>"
      ]
     },
     "metadata": {},
     "output_type": "display_data"
    }
   ],
   "source": [
    "graph3_p = [[1, 2], [2, 1], [2, 3], [3, 2], [3, 4], [4, 3], [4, 1]]\n",
    "pagerank3_p = pagerank.PageRank(graph3_p, d, iteration)\n",
    "print(\"pagerank3: {}\".format(pagerank3_p))\n",
    "\n",
    "g = nx.DiGraph()\n",
    "g.add_nodes_from([i for i in nodes3])\n",
    "g.add_edges_from(graph3_p)\n",
    "\n",
    "fig=plt.figure(figsize=(16,8))\n",
    "ax1=fig.add_subplot(2,2,1)\n",
    "ax1.set_title('Graph 3: increase PageRank')\n",
    "nx.draw(g, with_labels=True, node_color='red')"
   ]
  },
  {
   "cell_type": "markdown",
   "metadata": {},
   "source": [
    "## Graph 4"
   ]
  },
  {
   "cell_type": "code",
   "execution_count": 33,
   "metadata": {},
   "outputs": [
    {
     "name": "stdout",
     "output_type": "stream",
     "text": [
      "pagerank4:  [0.288, 0.161, 0.139, 0.107, 0.183, 0.055, 0.066]\n",
      "Wall time: 5.21 ms\n"
     ]
    }
   ],
   "source": [
    "%%time\n",
    "pagerank4 = pagerank.PageRank(graph4, d, iteration)\n",
    "print(\"pagerank4: \", pagerank4)\n",
    "\n",
    "#generate pagerank file\n",
    "os.chdir(r'C:\\Users\\jason\\desktop\\H24116049_DMProject3\\result\\graph4')\n",
    "np.savetxt(\"graph_4_PageRank.txt\", pagerank4, fmt='%1.3f', newline=' ')"
   ]
  },
  {
   "cell_type": "code",
   "execution_count": 31,
   "metadata": {},
   "outputs": [
    {
     "data": {
      "image/png": "[encoded data removed]",
      "text/plain": [
       "<Figure size 1152x576 with 1 Axes>"
      ]
     },
     "metadata": {},
     "output_type": "display_data"
    }
   ],
   "source": [
    "g = nx.DiGraph()\n",
    "g.add_nodes_from([i for i in nodes4])\n",
    "g.add_edges_from(graph4)\n",
    "\n",
    "fig=plt.figure(figsize=(16,8))\n",
    "ax1=fig.add_subplot(2,2,1)\n",
    "ax1.set_title('Graph 4')\n",
    "nx.draw(g, with_labels=True, node_color='red') "
   ]
  },
  {
   "cell_type": "markdown",
   "metadata": {},
   "source": [
    "## Graph 5"
   ]
  },
  {
   "cell_type": "code",
   "execution_count": 49,
   "metadata": {
    "scrolled": true
   },
   "outputs": [
    {
     "name": "stdout",
     "output_type": "stream",
     "text": [
      "Wall time: 2.62 s\n"
     ]
    }
   ],
   "source": [
    "%%time\n",
    "pagerank5 = pagerank.PageRank(graph5, d, iteration)\n",
    "\n",
    "#generate pagerank file\n",
    "os.chdir(r'C:\\Users\\jason\\desktop\\H24116049_DMProject3\\result\\graph5')\n",
    "np.savetxt(\"graph_5_PageRank.txt\", pagerank5, fmt='%1.3f', newline=' ')"
   ]
  },
  {
   "cell_type": "markdown",
   "metadata": {},
   "source": [
    "## Graph 6"
   ]
  },
  {
   "cell_type": "code",
   "execution_count": 35,
   "metadata": {},
   "outputs": [
    {
     "name": "stdout",
     "output_type": "stream",
     "text": [
      "Wall time: 36 s\n"
     ]
    }
   ],
   "source": [
    "%%time\n",
    "pagerank6 = pagerank.PageRank(graph6, d, iteration)\n",
    "\n",
    "#generate pagerank file\n",
    "os.chdir(r'C:\\Users\\jason\\desktop\\H24116049_DMProject3\\result\\graph6')\n",
    "np.savetxt(\"graph_6_PageRank.txt\", pagerank6, fmt='%1.3f', newline=' ')"
   ]
  },
  {
   "cell_type": "markdown",
   "metadata": {},
   "source": [
    "## Graph ibm"
   ]
  },
  {
   "cell_type": "code",
   "execution_count": 40,
   "metadata": {},
   "outputs": [
    {
     "name": "stdout",
     "output_type": "stream",
     "text": [
      "Wall time: 16.2 s\n"
     ]
    }
   ],
   "source": [
    "%%time\n",
    "pagerank_ibm = pagerank.PageRank(graph_ibm, d, iteration)\n",
    "\n",
    "#generate pagerank file\n",
    "os.chdir(r'C:\\Users\\jason\\desktop\\H24116049_DMProject3\\result\\ibm-5000')\n",
    "np.savetxt(\"ibm-5000_PageRank.txt\", pagerank_ibm, fmt='%1.3f', newline=' ')"
   ]
  },
  {
   "cell_type": "markdown",
   "metadata": {},
   "source": [
    "### test damping factor"
   ]
  },
  {
   "cell_type": "code",
   "execution_count": 31,
   "metadata": {},
   "outputs": [
    {
     "data": {
      "text/plain": [
       "[[0.16, 0.143, 0.14, 0.136, 0.156, 0.132, 0.132],\n",
       " [0.177, 0.144, 0.138, 0.13, 0.167, 0.123, 0.121],\n",
       " [0.194, 0.145, 0.137, 0.125, 0.175, 0.113, 0.112],\n",
       " [0.21, 0.146, 0.137, 0.121, 0.18, 0.104, 0.103],\n",
       " [0.226, 0.148, 0.137, 0.117, 0.184, 0.094, 0.094],\n",
       " [0.242, 0.15, 0.137, 0.114, 0.186, 0.085, 0.086],\n",
       " [0.257, 0.153, 0.138, 0.111, 0.186, 0.075, 0.079],\n",
       " [0.273, 0.157, 0.138, 0.109, 0.185, 0.066, 0.072],\n",
       " [0.288, 0.161, 0.139, 0.107, 0.183, 0.055, 0.066]]"
      ]
     },
     "execution_count": 31,
     "metadata": {},
     "output_type": "execute_result"
    }
   ],
   "source": [
    "g4_pr_ls = []\n",
    "for d in np.arange(0.9, 0, -0.1):\n",
    "    tmp_pr = pagerank.PageRank(graph4, d, iteration)\n",
    "    g4_pr_ls.append(tmp_pr)\n",
    "\n",
    "g4_pr_ls"
   ]
  },
  {
   "cell_type": "code",
   "execution_count": 51,
   "metadata": {},
   "outputs": [
    {
     "data": {
      "image/png": "[encoded data removed]",
      "text/plain": [
       "<Figure size 432x288 with 1 Axes>"
      ]
     },
     "metadata": {
      "needs_background": "light"
     },
     "output_type": "display_data"
    }
   ],
   "source": [
    "n1=[]\n",
    "n2=[]\n",
    "n3=[]\n",
    "n4=[]\n",
    "n5=[]\n",
    "n6=[]\n",
    "n7=[]\n",
    "for ls in g4_pr_ls:\n",
    "    n1.append(ls[0])\n",
    "    n2.append(ls[1])\n",
    "    n3.append(ls[2])\n",
    "    n4.append(ls[3])\n",
    "    n5.append(ls[4])\n",
    "    n6.append(ls[5])\n",
    "    n7.append(ls[6])\n",
    "\n",
    "d = [d for d in np.arange(0.1, 1.0, 0.1)]\n",
    "plt.plot(d, n1, label=\"node 1\")\n",
    "plt.plot(d, n2, label=\"node 2\")\n",
    "plt.plot(d, n3, label=\"node 3\")\n",
    "plt.plot(d, n4, label=\"node 4\")\n",
    "plt.plot(d, n5, label=\"node 5\")\n",
    "plt.plot(d, n6, label=\"node 6\")\n",
    "plt.plot(d, n7, label=\"node 7\")\n",
    "plt.title(\"damping factor to PageRank\")\n",
    "plt.xlabel(\"1-d\")\n",
    "plt.ylabel(\"PageRank with each node\")\n",
    "plt.grid(True)\n",
    "plt.legend(borderaxespad=0., bbox_to_anchor=(1.05, 1), loc=2)\n",
    "plt.show()"
   ]
  },
  {
   "cell_type": "markdown",
   "metadata": {},
   "source": [
    "# SimRank"
   ]
  },
  {
   "cell_type": "markdown",
   "metadata": {},
   "source": [
    "## Graph 1"
   ]
  },
  {
   "cell_type": "code",
   "execution_count": 41,
   "metadata": {},
   "outputs": [
    {
     "name": "stdout",
     "output_type": "stream",
     "text": [
      "Wall time: 8.68 ms\n"
     ]
    },
    {
     "data": {
      "text/plain": [
       "[[1.0, 0.0, 0.0, 0.0, 0.0, 0.0],\n",
       " [0.0, 1.0, 0.0, 0.0, 0.0, 0.0],\n",
       " [0.0, 0.0, 1.0, 0.0, 0.0, 0.0],\n",
       " [0.0, 0.0, 0.0, 1.0, 0.0, 0.0],\n",
       " [0.0, 0.0, 0.0, 0.0, 1.0, 0.0],\n",
       " [0.0, 0.0, 0.0, 0.0, 0.0, 1.0]]"
      ]
     },
     "execution_count": 41,
     "metadata": {},
     "output_type": "execute_result"
    }
   ],
   "source": [
    "%%time\n",
    "d_f = 0.7\n",
    "iterations = 30\n",
    "simrank1 = simrank.SimRank(graph1, d_f, iterations)\n",
    "\n",
    "#generate simrank file\n",
    "os.chdir(r'C:\\Users\\jason\\desktop\\H24116049_DMProject3\\result\\graph1')\n",
    "\n",
    "np.savetxt(\"graph_1_SimRank.txt\", simrank1, fmt='%1.0f')\n",
    "simrank1"
   ]
  },
  {
   "cell_type": "markdown",
   "metadata": {},
   "source": [
    "## Graph 2"
   ]
  },
  {
   "cell_type": "code",
   "execution_count": 42,
   "metadata": {},
   "outputs": [
    {
     "name": "stdout",
     "output_type": "stream",
     "text": [
      "Wall time: 11.5 ms\n"
     ]
    },
    {
     "data": {
      "text/plain": [
       "[[1.0, 0.0, 0.0, 0.0, 0.0],\n",
       " [0.0, 1.0, 0.0, 0.0, 0.0],\n",
       " [0.0, 0.0, 1.0, 0.0, 0.0],\n",
       " [0.0, 0.0, 0.0, 1.0, 0.0],\n",
       " [0.0, 0.0, 0.0, 0.0, 1.0]]"
      ]
     },
     "execution_count": 42,
     "metadata": {},
     "output_type": "execute_result"
    }
   ],
   "source": [
    "%%time\n",
    "simrank2 = simrank.SimRank(graph2, d_f, iterations)\n",
    "\n",
    "#generate simrank file\n",
    "os.chdir(r'C:\\Users\\jason\\desktop\\H24116049_DMProject3\\result\\graph2')\n",
    "np.savetxt(\"graph_2_SimRank.txt\", simrank2, fmt='%1.0f')\n",
    "simrank2"
   ]
  },
  {
   "cell_type": "markdown",
   "metadata": {},
   "source": [
    "## Graph 3"
   ]
  },
  {
   "cell_type": "code",
   "execution_count": 43,
   "metadata": {},
   "outputs": [
    {
     "name": "stdout",
     "output_type": "stream",
     "text": [
      "Wall time: 3.63 ms\n"
     ]
    },
    {
     "data": {
      "text/plain": [
       "[[1.0, 0.0, 0.538, 0.0],\n",
       " [0.0, 1.0, 0.0, 0.538],\n",
       " [0.538, 0.0, 1.0, 0.0],\n",
       " [0.0, 0.538, 0.0, 1.0]]"
      ]
     },
     "execution_count": 43,
     "metadata": {},
     "output_type": "execute_result"
    }
   ],
   "source": [
    "%%time\n",
    "simrank3 = simrank.SimRank(graph3, d_f, iterations)\n",
    "\n",
    "#generate simrank file\n",
    "os.chdir(r'C:\\Users\\jason\\desktop\\H24116049_DMProject3\\result\\graph3')\n",
    "np.savetxt(\"graph_3_SimRank.txt\", simrank3, fmt='%1.3f')\n",
    "simrank3"
   ]
  },
  {
   "cell_type": "markdown",
   "metadata": {},
   "source": [
    "## Graph 4"
   ]
  },
  {
   "cell_type": "code",
   "execution_count": 44,
   "metadata": {},
   "outputs": [
    {
     "name": "stdout",
     "output_type": "stream",
     "text": [
      "Wall time: 11.8 ms\n"
     ]
    },
    {
     "data": {
      "text/plain": [
       "[[1.0, 0.243, 0.232, 0.239, 0.221, 0.303, 0.175],\n",
       " [0.243, 1.0, 0.294, 0.256, 0.295, 0.17, 0.343],\n",
       " [0.232, 0.294, 1.0, 0.34, 0.275, 0.339, 0.341],\n",
       " [0.239, 0.256, 0.34, 1.0, 0.23, 0.427, 0.427],\n",
       " [0.221, 0.295, 0.275, 0.23, 1.0, 0.159, 0.3],\n",
       " [0.303, 0.17, 0.339, 0.427, 0.159, 1.0, 0.155],\n",
       " [0.175, 0.343, 0.341, 0.427, 0.3, 0.155, 1.0]]"
      ]
     },
     "execution_count": 44,
     "metadata": {},
     "output_type": "execute_result"
    }
   ],
   "source": [
    "%%time\n",
    "simrank4 = simrank.SimRank(graph4, d_f, iterations)\n",
    "\n",
    "#generate simrank file\n",
    "os.chdir(r'C:\\Users\\jason\\desktop\\H24116049_DMProject3\\result\\graph4')\n",
    "np.savetxt(\"graph_4_SimRank.txt\", simrank4, fmt='%1.3f')\n",
    "simrank4"
   ]
  },
  {
   "cell_type": "markdown",
   "metadata": {},
   "source": [
    "## Graph 5"
   ]
  },
  {
   "cell_type": "code",
   "execution_count": 45,
   "metadata": {},
   "outputs": [
    {
     "name": "stdout",
     "output_type": "stream",
     "text": [
      "Wall time: 7min 50s\n"
     ]
    }
   ],
   "source": [
    "%%time\n",
    "simrank5 = simrank.SimRank(graph5, d_f, iterations)\n",
    "\n",
    "#generate simrank file\n",
    "os.chdir(r'C:\\Users\\jason\\desktop\\H24116049_DMProject3\\result\\graph5')\n",
    "np.savetxt(\"graph_5_SimRank.txt\", simrank5, fmt='%1.3f')"
   ]
  },
  {
   "cell_type": "code",
   "execution_count": 23,
   "metadata": {},
   "outputs": [
    {
     "data": {
      "text/plain": [
       "[[1.0, 0.166, 0.158, 0.165, 0.148, 0.226, 0.105],\n",
       " [0.166, 1.0, 0.217, 0.183, 0.215, 0.101, 0.265],\n",
       " [0.158, 0.217, 1.0, 0.262, 0.199, 0.261, 0.263],\n",
       " [0.165, 0.183, 0.262, 1.0, 0.159, 0.344, 0.344],\n",
       " [0.148, 0.215, 0.199, 0.159, 1.0, 0.094, 0.224],\n",
       " [0.226, 0.101, 0.261, 0.344, 0.094, 1.0, 0.089],\n",
       " [0.105, 0.265, 0.263, 0.344, 0.224, 0.089, 1.0]]"
      ]
     },
     "execution_count": 23,
     "metadata": {},
     "output_type": "execute_result"
    }
   ],
   "source": [
    "sim=[]\n",
    "for d_f in np.arange(0.6, 0.9, 0.1):\n",
    "    simranks = simrank.SimRank(graph4, d_f, iterations)\n",
    "    sim.append(simranks)\n",
    "\n",
    "sim[0]"
   ]
  },
  {
   "cell_type": "code",
   "execution_count": 24,
   "metadata": {},
   "outputs": [
    {
     "data": {
      "text/plain": [
       "[[1.0, 0.243, 0.232, 0.239, 0.221, 0.303, 0.175],\n",
       " [0.243, 1.0, 0.294, 0.256, 0.295, 0.17, 0.343],\n",
       " [0.232, 0.294, 1.0, 0.34, 0.275, 0.339, 0.341],\n",
       " [0.239, 0.256, 0.34, 1.0, 0.23, 0.427, 0.427],\n",
       " [0.221, 0.295, 0.275, 0.23, 1.0, 0.159, 0.3],\n",
       " [0.303, 0.17, 0.339, 0.427, 0.159, 1.0, 0.155],\n",
       " [0.175, 0.343, 0.341, 0.427, 0.3, 0.155, 1.0]]"
      ]
     },
     "execution_count": 24,
     "metadata": {},
     "output_type": "execute_result"
    }
   ],
   "source": [
    "sim[1]"
   ]
  },
  {
   "cell_type": "code",
   "execution_count": 25,
   "metadata": {},
   "outputs": [
    {
     "data": {
      "text/plain": [
       "[[1.0, 0.36, 0.349, 0.354, 0.338, 0.415, 0.292],\n",
       " [0.36, 1.0, 0.407, 0.37, 0.412, 0.285, 0.454],\n",
       " [0.349, 0.407, 1.0, 0.45, 0.39, 0.448, 0.451],\n",
       " [0.354, 0.37, 0.45, 1.0, 0.343, 0.535, 0.535],\n",
       " [0.338, 0.412, 0.39, 0.343, 1.0, 0.273, 0.412],\n",
       " [0.415, 0.285, 0.448, 0.535, 0.273, 1.0, 0.27],\n",
       " [0.292, 0.454, 0.451, 0.535, 0.412, 0.27, 1.0]]"
      ]
     },
     "execution_count": 25,
     "metadata": {},
     "output_type": "execute_result"
    }
   ],
   "source": [
    "sim[2]"
   ]
  },
  {
   "cell_type": "code",
   "execution_count": null,
   "metadata": {},
   "outputs": [],
   "source": []
  }
 ],
 "metadata": {
  "kernelspec": {
   "display_name": "Python 3",
   "language": "python",
   "name": "python3"
  },
  "language_info": {
   "codemirror_mode": {
    "name": "ipython",
    "version": 3
   },
   "file_extension": ".py",
   "mimetype": "text/x-python",
   "name": "python",
   "nbconvert_exporter": "python",
   "pygments_lexer": "ipython3",
   "version": "3.8.3"
  }
 },
 "nbformat": 4,
 "nbformat_minor": 4
}
